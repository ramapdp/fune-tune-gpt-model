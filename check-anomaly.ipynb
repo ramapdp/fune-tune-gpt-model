{
 "cells": [
  {
   "cell_type": "code",
   "id": "initial_id",
   "metadata": {
    "collapsed": true,
    "ExecuteTime": {
     "end_time": "2024-08-01T15:08:01.286741Z",
     "start_time": "2024-08-01T15:08:01.235833Z"
    }
   },
   "source": [
    "import json\n",
    "import pandas as pd\n",
    "import matplotlib.pyplot as plt\n",
    "import seaborn as sns\n",
    "\n",
    "# Function to read JSONL file\n",
    "def read_jsonl(file_path):\n",
    "    data = []\n",
    "    with open(file_path, 'r') as f:\n",
    "        for line in f:\n",
    "            data.append(json.loads(line))\n",
    "    return data\n",
    "\n",
    "# Load the data\n",
    "file_path = './data/dataset.jsonl'\n",
    "data = read_jsonl(file_path)\n",
    "\n",
    "# Convert the list of dictionaries to a DataFrame\n",
    "df = pd.DataFrame(data)\n",
    "\n",
    "# Langkah 2: Memeriksa Distribusi Kelas\n",
    "if 'weight' in df.columns:\n",
    "    class_distribution = df['weight'].value_counts()\n",
    "    plt.figure(figsize=(10, 6))\n",
    "    sns.barplot(x=class_distribution.index, y=class_distribution.values, palette='viridis')\n",
    "    plt.title('Weight Distribution')\n",
    "    plt.xlabel('Weight')\n",
    "    plt.ylabel('Frequency')\n",
    "    plt.show()\n",
    "else:\n",
    "    print(\"The 'weight' column does not exist in the dataset.\")\n",
    "\n",
    "# Langkah 3: Memeriksa Data untuk Kesalahan atau Anomali\n",
    "missing_values = df.isnull().sum()\n",
    "print(\"Missing Values:\\n\", missing_values)\n",
    "\n",
    "duplicates = df.duplicated().sum()\n",
    "print(\"Duplicates:\", duplicates)\n",
    "\n",
    "print(df.describe())\n"
   ],
   "outputs": [
    {
     "name": "stdout",
     "output_type": "stream",
     "text": [
      "The 'weight' column does not exist in the dataset.\n",
      "Missing Values:\n",
      " messages    0\n",
      "dtype: int64\n",
      "Duplicates: 8\n",
      "                                                 messages\n",
      "count                                                 250\n",
      "unique                                                242\n",
      "top     [{'role': 'system', 'content': 'Anda adalah AI...\n",
      "freq                                                    2\n"
     ]
    }
   ],
   "execution_count": 3
  },
  {
   "metadata": {},
   "cell_type": "code",
   "outputs": [],
   "execution_count": null,
   "source": "",
   "id": "ca52985967c1ea0a"
  }
 ],
 "metadata": {
  "kernelspec": {
   "display_name": "Python 3",
   "language": "python",
   "name": "python3"
  },
  "language_info": {
   "codemirror_mode": {
    "name": "ipython",
    "version": 2
   },
   "file_extension": ".py",
   "mimetype": "text/x-python",
   "name": "python",
   "nbconvert_exporter": "python",
   "pygments_lexer": "ipython2",
   "version": "2.7.6"
  }
 },
 "nbformat": 4,
 "nbformat_minor": 5
}
